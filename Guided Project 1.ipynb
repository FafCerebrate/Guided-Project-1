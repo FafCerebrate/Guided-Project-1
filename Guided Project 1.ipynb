{
 "cells": [
  {
   "cell_type": "markdown",
   "metadata": {},
   "source": [
    "## Google Playstore and iOs App Store Apps Analysist\n",
    "\n",
    "In this analysist, we aim to build a profile of profitable apps.  The apps our developers will build will be free to download and install.  This leaves in-app ads as our profit.\n",
    "\n",
    "We are building a profile of free profitable apps to assist our development team to know what type of apps to build.  The more users our apps get the more profit our company makes.  The type of apps we want to build are the apps the will bring in a lot of users."
   ]
  },
  {
   "cell_type": "code",
   "execution_count": 1,
   "metadata": {},
   "outputs": [],
   "source": [
    "from csv import reader\n",
    "\n",
    "#Open up the android store data set\n",
    "opened_file = open('Data_Sets\\googleplaystore.csv', encoding='utf8')\n",
    "read_file = reader(opened_file)\n",
    "android = list(read_file)\n",
    "#Split the list of lists into a header list and a data set list of lists\n",
    "android_header = android[0]\n",
    "android = android[1:]\n",
    "\n",
    "#Open up the apple store data set\n",
    "opened_file = open('Data_Sets\\AppleStore.csv', encoding='utf8')\n",
    "read_file = reader(opened_file)\n",
    "iOs = list(read_file)\n",
    "#Split the list of lsits into a header list and a data set list of lists\n",
    "iOs_header = iOs[0]\n",
    "iOs = iOs[1:]"
   ]
  },
  {
   "cell_type": "markdown",
   "metadata": {},
   "source": [
    "The data quest mission provided a nice `explopre_data()` function that prints the data sets with a blank line inbetween so it is easier to read what is in the data set. It will also provide the number of rows and columns in the dataset. The rows will show how many apps there are and the columns will show what catagories the data set provides data on."
   ]
  },
  {
   "cell_type": "code",
   "execution_count": 2,
   "metadata": {},
   "outputs": [],
   "source": [
    "#The explore_data function was provided by the data quest mission\n",
    "def explore_data(dataset, start, end, rows_and_columns=False):\n",
    "    #grab only the lists that we want from the data set\n",
    "    dataset_slice = dataset[start:end]\n",
    "    #prints the lists that we grabbed with a blank line in between\n",
    "    for row in dataset_slice:\n",
    "        print(row)\n",
    "        print('\\n')\n",
    "    \n",
    "    #prints the number of rows and columns if that was specified\n",
    "    if rows_and_columns:\n",
    "        print('Number of rows:', len(dataset))\n",
    "        print('Number of columns:', len(dataset[0]))"
   ]
  },
  {
   "cell_type": "code",
   "execution_count": 3,
   "metadata": {},
   "outputs": [
    {
     "name": "stdout",
     "output_type": "stream",
     "text": [
      "['App', 'Category', 'Rating', 'Reviews', 'Size', 'Installs', 'Type', 'Price', 'Content Rating', 'Genres', 'Last Updated', 'Current Ver', 'Android Ver']\n",
      "\n",
      "\n",
      "['Photo Editor & Candy Camera & Grid & ScrapBook', 'ART_AND_DESIGN', '4.1', '159', '19M', '10,000+', 'Free', '0', 'Everyone', 'Art & Design', 'January 7, 2018', '1.0.0', '4.0.3 and up']\n",
      "\n",
      "\n",
      "['Coloring book moana', 'ART_AND_DESIGN', '3.9', '967', '14M', '500,000+', 'Free', '0', 'Everyone', 'Art & Design;Pretend Play', 'January 15, 2018', '2.0.0', '4.0.3 and up']\n",
      "\n",
      "\n",
      "['U Launcher Lite – FREE Live Cool Themes, Hide Apps', 'ART_AND_DESIGN', '4.7', '87510', '8.7M', '5,000,000+', 'Free', '0', 'Everyone', 'Art & Design', 'August 1, 2018', '1.2.4', '4.0.3 and up']\n",
      "\n",
      "\n",
      "['Sketch - Draw & Paint', 'ART_AND_DESIGN', '4.5', '215644', '25M', '50,000,000+', 'Free', '0', 'Teen', 'Art & Design', 'June 8, 2018', 'Varies with device', '4.2 and up']\n",
      "\n",
      "\n",
      "['Pixel Draw - Number Art Coloring Book', 'ART_AND_DESIGN', '4.3', '967', '2.8M', '100,000+', 'Free', '0', 'Everyone', 'Art & Design;Creativity', 'June 20, 2018', '1.1', '4.4 and up']\n",
      "\n",
      "\n",
      "Number of rows: 10841\n",
      "Number of columns: 13\n"
     ]
    }
   ],
   "source": [
    "#Print the android header and first 5 lines of the android data set\n",
    "print(android_header)\n",
    "print('\\n')\n",
    "explore_data(android, 0, 5, True)"
   ]
  },
  {
   "cell_type": "markdown",
   "metadata": {},
   "source": [
    "With the `explore_data()` function we get a good look at the first 5 rows of the android playstore.  We also learn that there are 10841 rows in the data set."
   ]
  },
  {
   "cell_type": "code",
   "execution_count": 4,
   "metadata": {},
   "outputs": [
    {
     "name": "stdout",
     "output_type": "stream",
     "text": [
      "['id', 'track_name', 'size_bytes', 'currency', 'price', 'rating_count_tot', 'rating_count_ver', 'user_rating', 'user_rating_ver', 'ver', 'cont_rating', 'prime_genre', 'sup_devices.num', 'ipadSc_urls.num', 'lang.num', 'vpp_lic']\n",
      "\n",
      "\n",
      "['284882215', 'Facebook', '389879808', 'USD', '0.0', '2974676', '212', '3.5', '3.5', '95.0', '4+', 'Social Networking', '37', '1', '29', '1']\n",
      "\n",
      "\n",
      "['389801252', 'Instagram', '113954816', 'USD', '0.0', '2161558', '1289', '4.5', '4.0', '10.23', '12+', 'Photo & Video', '37', '0', '29', '1']\n",
      "\n",
      "\n",
      "['529479190', 'Clash of Clans', '116476928', 'USD', '0.0', '2130805', '579', '4.5', '4.5', '9.24.12', '9+', 'Games', '38', '5', '18', '1']\n",
      "\n",
      "\n",
      "['420009108', 'Temple Run', '65921024', 'USD', '0.0', '1724546', '3842', '4.5', '4.0', '1.6.2', '9+', 'Games', '40', '5', '1', '1']\n",
      "\n",
      "\n",
      "['284035177', 'Pandora - Music & Radio', '130242560', 'USD', '0.0', '1126879', '3594', '4.0', '4.5', '8.4.1', '12+', 'Music', '37', '4', '1', '1']\n",
      "\n",
      "\n",
      "Number of rows: 7197\n",
      "Number of columns: 16\n"
     ]
    }
   ],
   "source": [
    "#Print the ios header and first 5 lines of the ios data set\n",
    "print(iOs_header)\n",
    "print('\\n')\n",
    "explore_data(iOs, 0, 5, True)"
   ]
  },
  {
   "cell_type": "markdown",
   "metadata": {},
   "source": [
    "With the `explore_data()` function we get a good look at the first 5 rows of the iOs appstore data.  We also learn that there are 7197 rows in the data set."
   ]
  },
  {
   "cell_type": "markdown",
   "metadata": {},
   "source": [
    "\n",
    "## Data cleaning\n",
    "Our company only wants data on free apps that are aimed towards the English-speakin market.  As part of the data cleaning process we will want to remove any paid apps and any apps that arn't in english.  There may also be duplicates and incorrect data that we need to clean up too.\n",
    "\n",
    "The data sets come with discussion threads on each.  We will be looking at these discussion threads to see if we can identify any rows that have data we don't want.\n",
    "\n",
    "The google playstore discussion is located [here](https://www.kaggle.com/lava18/google-play-store-apps/discussion)\n",
    "The ios appstore discussion is located [here](https://www.kaggle.com/ramamet4/app-store-apple-data-set-10k-apps/discussion)"
   ]
  },
  {
   "cell_type": "code",
   "execution_count": 5,
   "metadata": {},
   "outputs": [
    {
     "name": "stdout",
     "output_type": "stream",
     "text": [
      "['App', 'Category', 'Rating', 'Reviews', 'Size', 'Installs', 'Type', 'Price', 'Content Rating', 'Genres', 'Last Updated', 'Current Ver', 'Android Ver']\n",
      "\n",
      "\n",
      "['Life Made WI-Fi Touchscreen Photo Frame', '1.9', '19', '3.0M', '1,000+', 'Free', '0', 'Everyone', '', 'February 11, 2018', '1.0.19', '4.0 and up']\n"
     ]
    }
   ],
   "source": [
    "#print the header for reference against the incorrect rows\n",
    "print(android_header)\n",
    "print('\\n')\n",
    "#a row with an incorrect ratings score\n",
    "print(android[10472])"
   ]
  },
  {
   "cell_type": "code",
   "execution_count": 6,
   "metadata": {},
   "outputs": [],
   "source": [
    "#row 10472 has a rating of 19 but the max rating is 5\n",
    "#we should only run this code once.\n",
    "del android[10472]"
   ]
  },
  {
   "cell_type": "code",
   "execution_count": 7,
   "metadata": {},
   "outputs": [
    {
     "name": "stdout",
     "output_type": "stream",
     "text": [
      "10840\n"
     ]
    }
   ],
   "source": [
    "#the length of the android data set is now 10840 instead of 10841\n",
    "print(len(android))"
   ]
  },
  {
   "cell_type": "markdown",
   "metadata": {},
   "source": [
    "### Data Duplicates\n",
    "Now we will be looking for duplicates in the data sets.  Lets start with the google playstore data set first.  We will be creating a list of duplicate entries and a list of unique entries.  If an app appears in the unique entry then we place it in the duplicate entry."
   ]
  },
  {
   "cell_type": "code",
   "execution_count": 8,
   "metadata": {},
   "outputs": [
    {
     "name": "stdout",
     "output_type": "stream",
     "text": [
      "1181\n",
      "\n",
      "\n",
      "['Quick PDF Scanner + OCR FREE', 'Box', 'Google My Business', 'ZOOM Cloud Meetings', 'join.me - Simple Meetings', 'Box', 'Zenefits', 'Google Ads', 'Google My Business', 'Slack']\n"
     ]
    }
   ],
   "source": [
    "#create 2 empty lsits\n",
    "unique_list = []\n",
    "duplicate_list = []\n",
    "\n",
    "#loop through the android data set\n",
    "for app in android:\n",
    "    #grab the name of the app\n",
    "    name = app[0]\n",
    "    #if the app is in the unique list then place it in the duplicate list\n",
    "    if name in unique_list:\n",
    "        duplicate_list.append(name)\n",
    "    #otherwise place it in the unique list\n",
    "    else:\n",
    "        unique_list.append(name)\n",
    "        \n",
    "#then we want to see how many duplicates there are and some examples\n",
    "print(len(duplicate_list))\n",
    "print('\\n')\n",
    "print(duplicate_list[:10])"
   ]
  },
  {
   "cell_type": "code",
   "execution_count": 9,
   "metadata": {},
   "outputs": [
    {
     "name": "stdout",
     "output_type": "stream",
     "text": [
      "['App', 'Category', 'Rating', 'Reviews', 'Size', 'Installs', 'Type', 'Price', 'Content Rating', 'Genres', 'Last Updated', 'Current Ver', 'Android Ver']\n",
      "\n",
      "\n",
      "['Slack', 'BUSINESS', '4.4', '51507', 'Varies with device', '5,000,000+', 'Free', '0', 'Everyone', 'Business', 'August 2, 2018', 'Varies with device', 'Varies with device']\n",
      "['Slack', 'BUSINESS', '4.4', '51507', 'Varies with device', '5,000,000+', 'Free', '0', 'Everyone', 'Business', 'August 2, 2018', 'Varies with device', 'Varies with device']\n",
      "['Slack', 'BUSINESS', '4.4', '51510', 'Varies with device', '5,000,000+', 'Free', '0', 'Everyone', 'Business', 'August 2, 2018', 'Varies with device', 'Varies with device']\n"
     ]
    }
   ],
   "source": [
    "#'Slack' is a duplicate so lets look at the rows in the data set with name 'Slack'\n",
    "#print the header for reference\n",
    "print(android_header)\n",
    "print('\\n')\n",
    "\n",
    "#loop through the android data set\n",
    "for app in android:\n",
    "    #grab the name of the app\n",
    "    name = app[0]\n",
    "    #if the app name is 'Slack' print it\n",
    "    if name == 'Slack':\n",
    "        print(app)"
   ]
  },
  {
   "cell_type": "markdown",
   "metadata": {},
   "source": [
    "\n",
    "We have 1181 duplicate rows.  We have to delete these rows before we can analyze the data otherwise our data would not be as accurate as we want.  As we can see when we printed the `Slack` duplicate rows in the data set, the reviews is not the same on all 3.  The app with the highest number of reviews will have the most accurate rating.  So instead of deleteing the duplicates at random, we will instead delete the duplicates with the lowest number of reviews.  \n"
   ]
  },
  {
   "cell_type": "code",
   "execution_count": 10,
   "metadata": {},
   "outputs": [
    {
     "name": "stdout",
     "output_type": "stream",
     "text": [
      "Expected Lenght:  9659\n",
      "New Length:  9659\n"
     ]
    }
   ],
   "source": [
    "#create an empty dictionary\n",
    "reviews_max = {}\n",
    "\n",
    "#loop through the google dataset\n",
    "for app in android:\n",
    "    #grab the name and the review\n",
    "    name = app[0]\n",
    "    #set the reviews as float\n",
    "    num_reviews = float(app[3])\n",
    "    \n",
    "    #check if name exists in reviews_max and num_reviews is greater\n",
    "    if name in reviews_max and num_reviews > reviews_max[name]:\n",
    "            #then update reviews_max\n",
    "            reviews_max[name] = num_reviews\n",
    "    #if name doesn't exist in reviews_max then add it\n",
    "    elif name not in reviews_max:\n",
    "        reviews_max[name] = num_reviews\n",
    "\n",
    "#check if the dictionary is the length we expect\n",
    "#the android data set minus 1181 duplicates is what we expect\n",
    "print('Expected Lenght: ', len(android) - 1181)\n",
    "print('New Length: ', len(reviews_max))"
   ]
  },
  {
   "cell_type": "markdown",
   "metadata": {},
   "source": [
    "In the above cell we created a dictionary which contained a full list of app names from the google data set.  In this dictionary we stored the name as the `key` and the number of reviews as the `value`.  We also made sure to remove all of the duplicates so the dictionary only contained unique apps and the highest number of reviews per app.\n",
    "\n",
    "In the next cell we will use this dictionary to create a new clean list of adroid data. To create the list we will:\n",
    "1. create 2 empty lists which are `android_clean` and `already_added`\n",
    "2. loop thought the google data set for each loop\n",
    "    1. we grab the `name` and `num_reviews` same as we did in the previous cell\n",
    "    2. compare the `name` and `num_reviews` to `review_max`\n",
    "        1. we use `review_max` to ensure that the app we add is the app with the highest number of reviews\n",
    "    3. if the app is the one with the highest `num_reviews` then\n",
    "        1. we add the app to `android_clean`\n",
    "        2. we add the name to `already_added`\n",
    "            1. we use `already_added` for the cases where we have duplicates that have the same number of reviews\n",
    "            \n",
    "This will give us a list `android_clean` which will have no duplicates in it."
   ]
  },
  {
   "cell_type": "code",
   "execution_count": 11,
   "metadata": {},
   "outputs": [
    {
     "name": "stdout",
     "output_type": "stream",
     "text": [
      "['App', 'Category', 'Rating', 'Reviews', 'Size', 'Installs', 'Type', 'Price', 'Content Rating', 'Genres', 'Last Updated', 'Current Ver', 'Android Ver']\n",
      "\n",
      "\n",
      "['Photo Editor & Candy Camera & Grid & ScrapBook', 'ART_AND_DESIGN', '4.1', '159', '19M', '10,000+', 'Free', '0', 'Everyone', 'Art & Design', 'January 7, 2018', '1.0.0', '4.0.3 and up']\n",
      "\n",
      "\n",
      "['U Launcher Lite – FREE Live Cool Themes, Hide Apps', 'ART_AND_DESIGN', '4.7', '87510', '8.7M', '5,000,000+', 'Free', '0', 'Everyone', 'Art & Design', 'August 1, 2018', '1.2.4', '4.0.3 and up']\n",
      "\n",
      "\n",
      "['Sketch - Draw & Paint', 'ART_AND_DESIGN', '4.5', '215644', '25M', '50,000,000+', 'Free', '0', 'Teen', 'Art & Design', 'June 8, 2018', 'Varies with device', '4.2 and up']\n",
      "\n",
      "\n",
      "['Pixel Draw - Number Art Coloring Book', 'ART_AND_DESIGN', '4.3', '967', '2.8M', '100,000+', 'Free', '0', 'Everyone', 'Art & Design;Creativity', 'June 20, 2018', '1.1', '4.4 and up']\n",
      "\n",
      "\n",
      "['Paper flowers instructions', 'ART_AND_DESIGN', '4.4', '167', '5.6M', '50,000+', 'Free', '0', 'Everyone', 'Art & Design', 'March 26, 2017', '1.0', '2.3 and up']\n",
      "\n",
      "\n",
      "Number of rows: 9659\n",
      "Number of columns: 13\n"
     ]
    }
   ],
   "source": [
    "#create 2 empty lists\n",
    "android_clean = []\n",
    "already_added = []\n",
    "\n",
    "#loop through the google dataset\n",
    "for app in android:\n",
    "    #get the name and review number as a float\n",
    "    name = app[0]\n",
    "    num_reviews = float(app[3])\n",
    "    \n",
    "    #if the number of reviews is the one in reviews_max and name isn't in already_added\n",
    "    if num_reviews == reviews_max[name] and name not in already_added:\n",
    "        #append the full app to android_clean\n",
    "        android_clean.append(app)\n",
    "        #append the name to already_added\n",
    "        already_added.append(name)\n",
    "        \n",
    "#check the length of android_clean with explore_data\n",
    "print(android_header)\n",
    "print('\\n')\n",
    "explore_data(android_clean, 0, 5, True)"
   ]
  },
  {
   "cell_type": "markdown",
   "metadata": {},
   "source": [
    "Now we can do the same duplicate check on the iOs data. We find that there are no duplicates in the iOs data set so we don't have to remove any."
   ]
  },
  {
   "cell_type": "code",
   "execution_count": 12,
   "metadata": {},
   "outputs": [
    {
     "name": "stdout",
     "output_type": "stream",
     "text": [
      "0\n"
     ]
    }
   ],
   "source": [
    "#create 2 empty lsits\n",
    "unique_list = []\n",
    "duplicate_list = []\n",
    "\n",
    "#loop through the iOs data set\n",
    "for app in iOs:\n",
    "    #grab the name of the app\n",
    "    name = app[0]\n",
    "    #if the app is in the unique list then place it in the duplicate list\n",
    "    if name in unique_list:\n",
    "        duplicate_list.append(name)\n",
    "    #otherwise place it in the unique list\n",
    "    else:\n",
    "        unique_list.append(name)\n",
    "        \n",
    "#then we want to see how many duplicates there are\n",
    "print(len(duplicate_list))"
   ]
  },
  {
   "cell_type": "markdown",
   "metadata": {},
   "source": [
    "### Removing Non-English Apps\n",
    "Our company will be building apps directed toward English Speaking users.  As such the next thing we want to do for data cleaning is removing any non-English apps.  "
   ]
  },
  {
   "cell_type": "code",
   "execution_count": 13,
   "metadata": {},
   "outputs": [
    {
     "name": "stdout",
     "output_type": "stream",
     "text": [
      "True\n",
      "False\n",
      "True\n",
      "True\n"
     ]
    }
   ],
   "source": [
    "#create a function that looks at a string\n",
    "#returns False if the string contains non-English characters\n",
    "#returns True if the string is in all English\n",
    "def check_english(arg_string):\n",
    "    #create a counter for counting non-English characters\n",
    "    counter = 0\n",
    "    \n",
    "    #loop through the string\n",
    "    for i in arg_string:\n",
    "        #English characters have ASCII values of 0 through 127\n",
    "        #check if the character is greater than 127\n",
    "        if ord(i) > 127:\n",
    "            #then add to the counter\n",
    "            counter += 1\n",
    "            \n",
    "    #outside of the loop we have a final counter\n",
    "    #if the counter is greater than 3 then return False\n",
    "    if counter > 3:\n",
    "        return False\n",
    "    #else return True\n",
    "    else:\n",
    "        return True\n",
    "\n",
    "#check if the function works\n",
    "print(check_english('Instagram'))\n",
    "print(check_english('爱奇艺PPS -《欢乐颂2》电视剧热播'))\n",
    "print(check_english('Docs To Go™ Free Office Suite'))\n",
    "print(check_english('Instachat 😜'))"
   ]
  },
  {
   "cell_type": "markdown",
   "metadata": {},
   "source": [
    "In thew above cell we create a function to check for English character.  As English characters make up the ASCII values 0-127 we use that to check.  But we run into the problem of the TM symbol and the emoji symbol being outside of the range of 0-127.  To solve then we create a counter and if there are more than 3 symbols outside of the range then we return `False`. Otherwise, we return `True`\n",
    "\n",
    "After that we run the 2 data sets we are using throught the function.  For the android data set we use the clean data set we made by removing duplicates.  For the iOs data set we had no duplicates so we can use the original data set."
   ]
  },
  {
   "cell_type": "code",
   "execution_count": 14,
   "metadata": {},
   "outputs": [
    {
     "name": "stdout",
     "output_type": "stream",
     "text": [
      "['App', 'Category', 'Rating', 'Reviews', 'Size', 'Installs', 'Type', 'Price', 'Content Rating', 'Genres', 'Last Updated', 'Current Ver', 'Android Ver']\n",
      "\n",
      "\n",
      "['Photo Editor & Candy Camera & Grid & ScrapBook', 'ART_AND_DESIGN', '4.1', '159', '19M', '10,000+', 'Free', '0', 'Everyone', 'Art & Design', 'January 7, 2018', '1.0.0', '4.0.3 and up']\n",
      "\n",
      "\n",
      "['U Launcher Lite – FREE Live Cool Themes, Hide Apps', 'ART_AND_DESIGN', '4.7', '87510', '8.7M', '5,000,000+', 'Free', '0', 'Everyone', 'Art & Design', 'August 1, 2018', '1.2.4', '4.0.3 and up']\n",
      "\n",
      "\n",
      "['Sketch - Draw & Paint', 'ART_AND_DESIGN', '4.5', '215644', '25M', '50,000,000+', 'Free', '0', 'Teen', 'Art & Design', 'June 8, 2018', 'Varies with device', '4.2 and up']\n",
      "\n",
      "\n",
      "['Pixel Draw - Number Art Coloring Book', 'ART_AND_DESIGN', '4.3', '967', '2.8M', '100,000+', 'Free', '0', 'Everyone', 'Art & Design;Creativity', 'June 20, 2018', '1.1', '4.4 and up']\n",
      "\n",
      "\n",
      "['Paper flowers instructions', 'ART_AND_DESIGN', '4.4', '167', '5.6M', '50,000+', 'Free', '0', 'Everyone', 'Art & Design', 'March 26, 2017', '1.0', '2.3 and up']\n",
      "\n",
      "\n",
      "Number of rows: 9614\n",
      "Number of columns: 13\n",
      "\n",
      "\n",
      "['id', 'track_name', 'size_bytes', 'currency', 'price', 'rating_count_tot', 'rating_count_ver', 'user_rating', 'user_rating_ver', 'ver', 'cont_rating', 'prime_genre', 'sup_devices.num', 'ipadSc_urls.num', 'lang.num', 'vpp_lic']\n",
      "\n",
      "\n",
      "['284882215', 'Facebook', '389879808', 'USD', '0.0', '2974676', '212', '3.5', '3.5', '95.0', '4+', 'Social Networking', '37', '1', '29', '1']\n",
      "\n",
      "\n",
      "['389801252', 'Instagram', '113954816', 'USD', '0.0', '2161558', '1289', '4.5', '4.0', '10.23', '12+', 'Photo & Video', '37', '0', '29', '1']\n",
      "\n",
      "\n",
      "['529479190', 'Clash of Clans', '116476928', 'USD', '0.0', '2130805', '579', '4.5', '4.5', '9.24.12', '9+', 'Games', '38', '5', '18', '1']\n",
      "\n",
      "\n",
      "['420009108', 'Temple Run', '65921024', 'USD', '0.0', '1724546', '3842', '4.5', '4.0', '1.6.2', '9+', 'Games', '40', '5', '1', '1']\n",
      "\n",
      "\n",
      "['284035177', 'Pandora - Music & Radio', '130242560', 'USD', '0.0', '1126879', '3594', '4.0', '4.5', '8.4.1', '12+', 'Music', '37', '4', '1', '1']\n",
      "\n",
      "\n",
      "Number of rows: 6183\n",
      "Number of columns: 16\n"
     ]
    }
   ],
   "source": [
    "#create two new lists for the data sets\n",
    "android_english = []\n",
    "iOs_english = []\n",
    "\n",
    "#loop through android_clean\n",
    "for app in android_clean:\n",
    "    #grab the name of the app\n",
    "    name = app[0]\n",
    "    #check if the name is English\n",
    "    if check_english(name):\n",
    "        #then add the app to the new English list\n",
    "        android_english.append(app)\n",
    "\n",
    "#loop through iOs\n",
    "for app in iOs:\n",
    "    #grab the name of the app\n",
    "    name = app[1]\n",
    "    #check if the name is English\n",
    "    if check_english(name):\n",
    "        #then add the app to the new English list\n",
    "        iOs_english.append(app)\n",
    "        \n",
    "#explore the lists to ensure it works\n",
    "print(android_header)\n",
    "print('\\n')\n",
    "explore_data(android_english, 0, 5, True)\n",
    "print('\\n')\n",
    "print(iOs_header)\n",
    "print('\\n')\n",
    "explore_data(iOs_english, 0, 5, True)"
   ]
  },
  {
   "cell_type": "markdown",
   "metadata": {},
   "source": [
    "### Grabbing free apps\n",
    "Now that our data is free of duplicates and non-English apps, we can start grabbing the apps that we want.  Our company only makes free apps so we will start by going through the data sets and removing all the paid apps."
   ]
  },
  {
   "cell_type": "code",
   "execution_count": 15,
   "metadata": {},
   "outputs": [
    {
     "name": "stdout",
     "output_type": "stream",
     "text": [
      "['App', 'Category', 'Rating', 'Reviews', 'Size', 'Installs', 'Type', 'Price', 'Content Rating', 'Genres', 'Last Updated', 'Current Ver', 'Android Ver']\n",
      "\n",
      "\n",
      "['Photo Editor & Candy Camera & Grid & ScrapBook', 'ART_AND_DESIGN', '4.1', '159', '19M', '10,000+', 'Free', '0', 'Everyone', 'Art & Design', 'January 7, 2018', '1.0.0', '4.0.3 and up']\n",
      "\n",
      "\n",
      "['U Launcher Lite – FREE Live Cool Themes, Hide Apps', 'ART_AND_DESIGN', '4.7', '87510', '8.7M', '5,000,000+', 'Free', '0', 'Everyone', 'Art & Design', 'August 1, 2018', '1.2.4', '4.0.3 and up']\n",
      "\n",
      "\n",
      "['Sketch - Draw & Paint', 'ART_AND_DESIGN', '4.5', '215644', '25M', '50,000,000+', 'Free', '0', 'Teen', 'Art & Design', 'June 8, 2018', 'Varies with device', '4.2 and up']\n",
      "\n",
      "\n",
      "['Pixel Draw - Number Art Coloring Book', 'ART_AND_DESIGN', '4.3', '967', '2.8M', '100,000+', 'Free', '0', 'Everyone', 'Art & Design;Creativity', 'June 20, 2018', '1.1', '4.4 and up']\n",
      "\n",
      "\n",
      "['Paper flowers instructions', 'ART_AND_DESIGN', '4.4', '167', '5.6M', '50,000+', 'Free', '0', 'Everyone', 'Art & Design', 'March 26, 2017', '1.0', '2.3 and up']\n",
      "\n",
      "\n",
      "Number of rows: 8864\n",
      "Number of columns: 13\n",
      "\n",
      "\n",
      "['id', 'track_name', 'size_bytes', 'currency', 'price', 'rating_count_tot', 'rating_count_ver', 'user_rating', 'user_rating_ver', 'ver', 'cont_rating', 'prime_genre', 'sup_devices.num', 'ipadSc_urls.num', 'lang.num', 'vpp_lic']\n",
      "\n",
      "\n",
      "['284882215', 'Facebook', '389879808', 'USD', '0.0', '2974676', '212', '3.5', '3.5', '95.0', '4+', 'Social Networking', '37', '1', '29', '1']\n",
      "\n",
      "\n",
      "['389801252', 'Instagram', '113954816', 'USD', '0.0', '2161558', '1289', '4.5', '4.0', '10.23', '12+', 'Photo & Video', '37', '0', '29', '1']\n",
      "\n",
      "\n",
      "['529479190', 'Clash of Clans', '116476928', 'USD', '0.0', '2130805', '579', '4.5', '4.5', '9.24.12', '9+', 'Games', '38', '5', '18', '1']\n",
      "\n",
      "\n",
      "['420009108', 'Temple Run', '65921024', 'USD', '0.0', '1724546', '3842', '4.5', '4.0', '1.6.2', '9+', 'Games', '40', '5', '1', '1']\n",
      "\n",
      "\n",
      "['284035177', 'Pandora - Music & Radio', '130242560', 'USD', '0.0', '1126879', '3594', '4.0', '4.5', '8.4.1', '12+', 'Music', '37', '4', '1', '1']\n",
      "\n",
      "\n",
      "Number of rows: 3222\n",
      "Number of columns: 16\n"
     ]
    }
   ],
   "source": [
    "#create 2 new lists\n",
    "android_free = []\n",
    "iOs_free = []\n",
    "\n",
    "#loop through the android_english data set\n",
    "for app in android_english:\n",
    "    #the price catagory for the android data set is the 7th index\n",
    "    price = app[7]\n",
    "    #check if the price is 0\n",
    "    if price == '0':\n",
    "        #then add it to android_free\n",
    "        android_free.append(app)\n",
    "        \n",
    "#loop through the iOs_english data set\n",
    "for app in iOs_english:\n",
    "    #the price catagory for the iOs data set is the 4th index\n",
    "    price = app[4]\n",
    "    #check if the price is 0.0\n",
    "    if price == '0.0':\n",
    "        #then add it to iOs_free\n",
    "        iOs_free.append(app)\n",
    "        \n",
    "#now we can explore explore the data one more time\n",
    "print(android_header)\n",
    "print('\\n')\n",
    "explore_data(android_free, 0, 5, True)\n",
    "print('\\n')\n",
    "print(iOs_header)\n",
    "print('\\n')\n",
    "explore_data(iOs_free, 0, 5, True)"
   ]
  },
  {
   "cell_type": "markdown",
   "metadata": {},
   "source": [
    "The total number of free apps we are left with is 8864 apps from the android playstore and 3222 apps from the iOs app store."
   ]
  },
  {
   "cell_type": "markdown",
   "metadata": {},
   "source": [
    "## Most Common Apps by Genre\n",
    "We want to develope apps that want to reach the most amount of users we can.  Our strategy is going be 3 steps:\n",
    "1. We build an Android app and add it to the android playstore.\n",
    "2. If the app gets a good response then we continue developing it\n",
    "3. After six months, if the app is profitable then we build an iOs version and add it to the app store\n",
    "\n",
    "Because at the end of the 3 steps we will have an app on both the android playstore and the iOs appstore.  We want to look at apps that will perform well on both stores.  As part of that we will be analyzing the data of both data sets.\n",
    "\n",
    "The catagories we will be looking at are the genre catagories.  For the android play store we have `catagory` which is index `1` and `genre` which is index `9`.  For the iOs app store we have `prime_genre` which is index `11`"
   ]
  },
  {
   "cell_type": "code",
   "execution_count": 16,
   "metadata": {},
   "outputs": [],
   "source": [
    "#create a function that makes a frequency table\n",
    "#takes in 2 arguments:\n",
    "#   dataset is the list of lists the table will be of\n",
    "#   index is which list in the list of lists the table will be of\n",
    "def freq_table(dataset, index):\n",
    "    #creat an empty dictionary for the frequecy table\n",
    "    freq_table = {}\n",
    "\n",
    "    #loop through the data set\n",
    "    for row in dataset:\n",
    "        #grab the value of the row\n",
    "        value = row[index]\n",
    "        #check if the value is in the dictionary\n",
    "        if value in freq_table:\n",
    "            #add one to the value\n",
    "            freq_table[value] += 1\n",
    "        #else create a new dictionary entry\n",
    "        else:\n",
    "            #set the new entry to 1\n",
    "            freq_table[value] = 1\n",
    "    \n",
    "    #now to turn the frequncies to a percentage\n",
    "    #create an empty dictionary for percentages\n",
    "    percent_table = {}\n",
    "    \n",
    "    #calculate the length for the percentage table\n",
    "    length = len(dataset)\n",
    "    #loop through the frequency table\n",
    "    for i in freq_table:\n",
    "        #calculate the length of the frequency table\n",
    "        #calculate the percentage\n",
    "        percent = (freq_table[i] / length) * 100\n",
    "        #add the percentage to the percent_table\n",
    "        percent_table[i] = percent\n",
    "        \n",
    "    #return the percentage table\n",
    "    return percent_table"
   ]
  },
  {
   "cell_type": "code",
   "execution_count": 17,
   "metadata": {},
   "outputs": [],
   "source": [
    "#The display_table function was provided by the data quest mission\n",
    "def display_table(dataset, index):\n",
    "    #get a percentage table\n",
    "    table = freq_table(dataset, index)\n",
    "    #create an empty list for displaying\n",
    "    table_display = []\n",
    "    \n",
    "    #loop though the percentage table\n",
    "    for key in table:\n",
    "        #set the value, key as a tuple\n",
    "        key_val_as_tuple = (table[key], key)\n",
    "        #add the tuple to the display table\n",
    "        table_display.append(key_val_as_tuple)\n",
    "\n",
    "    #sort the table in descending order\n",
    "    table_sorted = sorted(table_display, reverse = True)\n",
    "    #loop through the sorted table\n",
    "    for entry in table_sorted:\n",
    "        #print the entries\n",
    "        print(entry[1], ':', entry[0])"
   ]
  },
  {
   "cell_type": "markdown",
   "metadata": {},
   "source": [
    "Now that we have a functions `freq_table` which takes in the data set and an index and returns a percentage dictionary for the data set. and a function `display_table` which takes in the percentage table, sorts it into descending order, and then prints it out in a nice list.  We can start printing out the catagories that we want.\n",
    "The catagories that we want are `catagory` and `genre` from the android playstore and `prime_genre` from the iOs appstore"
   ]
  },
  {
   "cell_type": "code",
   "execution_count": 18,
   "metadata": {
    "scrolled": true
   },
   "outputs": [
    {
     "name": "stdout",
     "output_type": "stream",
     "text": [
      "FAMILY : 18.907942238267147\n",
      "GAME : 9.724729241877256\n",
      "TOOLS : 8.461191335740072\n",
      "BUSINESS : 4.591606498194946\n",
      "LIFESTYLE : 3.9034296028880866\n",
      "PRODUCTIVITY : 3.892148014440433\n",
      "FINANCE : 3.7003610108303246\n",
      "MEDICAL : 3.531137184115524\n",
      "SPORTS : 3.395758122743682\n",
      "PERSONALIZATION : 3.3167870036101084\n",
      "COMMUNICATION : 3.2378158844765346\n",
      "HEALTH_AND_FITNESS : 3.0798736462093865\n",
      "PHOTOGRAPHY : 2.944494584837545\n",
      "NEWS_AND_MAGAZINES : 2.7978339350180503\n",
      "SOCIAL : 2.6624548736462095\n",
      "TRAVEL_AND_LOCAL : 2.33528880866426\n",
      "SHOPPING : 2.2450361010830324\n",
      "BOOKS_AND_REFERENCE : 2.1435018050541514\n",
      "DATING : 1.861462093862816\n",
      "VIDEO_PLAYERS : 1.7937725631768955\n",
      "MAPS_AND_NAVIGATION : 1.3989169675090252\n",
      "FOOD_AND_DRINK : 1.2409747292418771\n",
      "EDUCATION : 1.1620036101083033\n",
      "ENTERTAINMENT : 0.9589350180505415\n",
      "LIBRARIES_AND_DEMO : 0.9363718411552346\n",
      "AUTO_AND_VEHICLES : 0.9250902527075812\n",
      "HOUSE_AND_HOME : 0.8235559566787004\n",
      "WEATHER : 0.8009927797833934\n",
      "EVENTS : 0.7107400722021661\n",
      "PARENTING : 0.6543321299638989\n",
      "ART_AND_DESIGN : 0.6430505415162455\n",
      "COMICS : 0.6204873646209386\n",
      "BEAUTY : 0.5979241877256317\n"
     ]
    }
   ],
   "source": [
    "#print the catagory for google playstore using the functions\n",
    "display_table(android_free, 1)"
   ]
  },
  {
   "cell_type": "markdown",
   "metadata": {},
   "source": [
    "In this table we look at `catagory` in the google playstore data set.  What we see is that Family is the highest catagory with 18.90% followed by Game at 9.72%.  If we continue down the list we see that utility apps such as Family, Tools, Business, Lifestyle, and productivity make up most of the top catagories.  While fun apps such as Games, Sports, and Photography have much less representation.\n",
    "\n",
    "The general trend seems to be on utility over fun.  While Games still has 2nd place it is the only fun app catagory we see until we get down to Sports in 9th place.\n",
    "\n",
    "This app profile is limited to just what we were looking at which is free English games so it might not represent the appstore overall.  This profile also only looks at the number of apps per genre and not user rating or even how many users each genre gets.  Thus, the percentage of each genre does not necessarily show user demand."
   ]
  },
  {
   "cell_type": "code",
   "execution_count": 19,
   "metadata": {
    "scrolled": true
   },
   "outputs": [
    {
     "name": "stdout",
     "output_type": "stream",
     "text": [
      "Tools : 8.449909747292418\n",
      "Entertainment : 6.069494584837545\n",
      "Education : 5.347472924187725\n",
      "Business : 4.591606498194946\n",
      "Productivity : 3.892148014440433\n",
      "Lifestyle : 3.892148014440433\n",
      "Finance : 3.7003610108303246\n",
      "Medical : 3.531137184115524\n",
      "Sports : 3.463447653429603\n",
      "Personalization : 3.3167870036101084\n",
      "Communication : 3.2378158844765346\n",
      "Action : 3.1024368231046933\n",
      "Health & Fitness : 3.0798736462093865\n",
      "Photography : 2.944494584837545\n",
      "News & Magazines : 2.7978339350180503\n",
      "Social : 2.6624548736462095\n",
      "Travel & Local : 2.3240072202166067\n",
      "Shopping : 2.2450361010830324\n",
      "Books & Reference : 2.1435018050541514\n",
      "Simulation : 2.0419675090252705\n",
      "Dating : 1.861462093862816\n",
      "Arcade : 1.8501805054151623\n",
      "Video Players & Editors : 1.7712093862815883\n",
      "Casual : 1.7599277978339352\n",
      "Maps & Navigation : 1.3989169675090252\n",
      "Food & Drink : 1.2409747292418771\n",
      "Puzzle : 1.128158844765343\n",
      "Racing : 0.9927797833935018\n",
      "Role Playing : 0.9363718411552346\n",
      "Libraries & Demo : 0.9363718411552346\n",
      "Auto & Vehicles : 0.9250902527075812\n",
      "Strategy : 0.9138086642599278\n",
      "House & Home : 0.8235559566787004\n",
      "Weather : 0.8009927797833934\n",
      "Events : 0.7107400722021661\n",
      "Adventure : 0.6768953068592057\n",
      "Comics : 0.6092057761732852\n",
      "Beauty : 0.5979241877256317\n",
      "Art & Design : 0.5979241877256317\n",
      "Parenting : 0.4963898916967509\n",
      "Card : 0.45126353790613716\n",
      "Casino : 0.42870036101083037\n",
      "Trivia : 0.41741877256317694\n",
      "Educational;Education : 0.39485559566787\n",
      "Board : 0.3835740072202166\n",
      "Educational : 0.3722924187725632\n",
      "Education;Education : 0.33844765342960287\n",
      "Word : 0.2594765342960289\n",
      "Casual;Pretend Play : 0.236913357400722\n",
      "Music : 0.2030685920577617\n",
      "Racing;Action & Adventure : 0.16922382671480143\n",
      "Puzzle;Brain Games : 0.16922382671480143\n",
      "Entertainment;Music & Video : 0.16922382671480143\n",
      "Casual;Brain Games : 0.13537906137184114\n",
      "Casual;Action & Adventure : 0.13537906137184114\n",
      "Arcade;Action & Adventure : 0.12409747292418773\n",
      "Action;Action & Adventure : 0.10153429602888085\n",
      "Educational;Pretend Play : 0.09025270758122744\n",
      "Simulation;Action & Adventure : 0.078971119133574\n",
      "Parenting;Education : 0.078971119133574\n",
      "Entertainment;Brain Games : 0.078971119133574\n",
      "Board;Brain Games : 0.078971119133574\n",
      "Parenting;Music & Video : 0.06768953068592057\n",
      "Educational;Brain Games : 0.06768953068592057\n",
      "Casual;Creativity : 0.06768953068592057\n",
      "Art & Design;Creativity : 0.06768953068592057\n",
      "Education;Pretend Play : 0.056407942238267145\n",
      "Role Playing;Pretend Play : 0.04512635379061372\n",
      "Education;Creativity : 0.04512635379061372\n",
      "Role Playing;Action & Adventure : 0.033844765342960284\n",
      "Puzzle;Action & Adventure : 0.033844765342960284\n",
      "Entertainment;Creativity : 0.033844765342960284\n",
      "Entertainment;Action & Adventure : 0.033844765342960284\n",
      "Educational;Creativity : 0.033844765342960284\n",
      "Educational;Action & Adventure : 0.033844765342960284\n",
      "Education;Music & Video : 0.033844765342960284\n",
      "Education;Brain Games : 0.033844765342960284\n",
      "Education;Action & Adventure : 0.033844765342960284\n",
      "Adventure;Action & Adventure : 0.033844765342960284\n",
      "Video Players & Editors;Music & Video : 0.02256317689530686\n",
      "Sports;Action & Adventure : 0.02256317689530686\n",
      "Simulation;Pretend Play : 0.02256317689530686\n",
      "Puzzle;Creativity : 0.02256317689530686\n",
      "Music;Music & Video : 0.02256317689530686\n",
      "Entertainment;Pretend Play : 0.02256317689530686\n",
      "Casual;Education : 0.02256317689530686\n",
      "Board;Action & Adventure : 0.02256317689530686\n",
      "Video Players & Editors;Creativity : 0.01128158844765343\n",
      "Trivia;Education : 0.01128158844765343\n",
      "Travel & Local;Action & Adventure : 0.01128158844765343\n",
      "Tools;Education : 0.01128158844765343\n",
      "Strategy;Education : 0.01128158844765343\n",
      "Strategy;Creativity : 0.01128158844765343\n",
      "Strategy;Action & Adventure : 0.01128158844765343\n",
      "Simulation;Education : 0.01128158844765343\n",
      "Role Playing;Brain Games : 0.01128158844765343\n",
      "Racing;Pretend Play : 0.01128158844765343\n",
      "Puzzle;Education : 0.01128158844765343\n",
      "Parenting;Brain Games : 0.01128158844765343\n",
      "Music & Audio;Music & Video : 0.01128158844765343\n",
      "Lifestyle;Pretend Play : 0.01128158844765343\n",
      "Lifestyle;Education : 0.01128158844765343\n",
      "Health & Fitness;Education : 0.01128158844765343\n",
      "Health & Fitness;Action & Adventure : 0.01128158844765343\n",
      "Entertainment;Education : 0.01128158844765343\n",
      "Communication;Creativity : 0.01128158844765343\n",
      "Comics;Creativity : 0.01128158844765343\n",
      "Casual;Music & Video : 0.01128158844765343\n",
      "Card;Action & Adventure : 0.01128158844765343\n",
      "Books & Reference;Education : 0.01128158844765343\n",
      "Art & Design;Pretend Play : 0.01128158844765343\n",
      "Art & Design;Action & Adventure : 0.01128158844765343\n",
      "Arcade;Pretend Play : 0.01128158844765343\n",
      "Adventure;Education : 0.01128158844765343\n"
     ]
    }
   ],
   "source": [
    "#print the genre for google playstore using the functions\n",
    "display_table(android_free, 9)"
   ]
  },
  {
   "cell_type": "markdown",
   "metadata": {},
   "source": [
    "In this table we look at `genre` in the google playstore.  One thing to note is that `genre` and `catagory` don't seem to be too different.  `Genre` does have more of a breakdown than `catagory` which for us is not too important right now.  What was said about `catagories` can then be applied to `genre` in terms of general trend and utility over fun."
   ]
  },
  {
   "cell_type": "code",
   "execution_count": 20,
   "metadata": {
    "scrolled": true
   },
   "outputs": [
    {
     "name": "stdout",
     "output_type": "stream",
     "text": [
      "Games : 58.16263190564867\n",
      "Entertainment : 7.883302296710118\n",
      "Photo & Video : 4.9658597144630665\n",
      "Education : 3.662321539416512\n",
      "Social Networking : 3.2898820608317814\n",
      "Shopping : 2.60707635009311\n",
      "Utilities : 2.5139664804469275\n",
      "Sports : 2.1415270018621975\n",
      "Music : 2.0484171322160147\n",
      "Health & Fitness : 2.0173805090006205\n",
      "Productivity : 1.7380509000620732\n",
      "Lifestyle : 1.5828677839851024\n",
      "News : 1.3345747982619491\n",
      "Travel : 1.2414649286157666\n",
      "Finance : 1.1173184357541899\n",
      "Weather : 0.8690254500310366\n",
      "Food & Drink : 0.8069522036002483\n",
      "Reference : 0.5586592178770949\n",
      "Business : 0.5276225946617008\n",
      "Book : 0.4345127250155183\n",
      "Navigation : 0.186219739292365\n",
      "Medical : 0.186219739292365\n",
      "Catalogs : 0.12414649286157665\n"
     ]
    }
   ],
   "source": [
    "#print the prime_genre for apple appstore using the functions\n",
    "display_table(iOs_free, 11)"
   ]
  },
  {
   "cell_type": "markdown",
   "metadata": {},
   "source": [
    "In this table for the `prime_genre` catagory of the apple appstore we get a nice list of percentages.  We find that the most common genre is Games followed by Entertainment and Photo & Video.  The Games genre take a majority of the apps at just over 58%, with Entertainment dropping down to only 7.88%.\n",
    "\n",
    "A general trend we can see is that fun and entertainment are the highest trends.  Games, Entertainment, Photo & Video, Social Media are all within the top 5 catagories.  Education does beat Social Media by about half a percentage but still no where near as much of a percentage as Games.\n",
    "\n",
    "This app profile is limited to just what we were looking at which is free English games so it might not represent the appstore overall.  This profile also only looks at the number of apps per genre and not user rating or even how many users each genre gets.  Thus, the percentage of each genre does not necessarily show user demand.\n",
    "\n",
    "The differences between google playstore and apple appstore are quite intresting.  The android store seems to have a lot more apps based on utility over fun.  While the apple store is the opposite and has a lot more apps based on fun over utility.  Then we look at the percentages and see that the playstore is a lot more balanced than the appstore, with the highest playstore percentage being 18.90% vs. the appstore 58.16%."
   ]
  },
  {
   "cell_type": "markdown",
   "metadata": {},
   "source": [
    "### Most Popular Apps by Genre\n",
    "Now that we have good lists of the common apps by genre, Lets look at the same genre catagories except we will take into account how many installs the apps have aswell.\n",
    "\n",
    "In terms of the google playstore we can use the `installs` section which is index `5`.  For the apple appstore there is no `installs` section so instead we can look at the total rating count `rating_count_tot` which is index `5`."
   ]
  },
  {
   "cell_type": "markdown",
   "metadata": {},
   "source": [
    "##### Popular Apps on the iOs Appstore\n",
    "First lets look at the iOs store and see which genre has the best rating counts compared to the number of apps."
   ]
  },
  {
   "cell_type": "code",
   "execution_count": 42,
   "metadata": {},
   "outputs": [
    {
     "name": "stdout",
     "output_type": "stream",
     "text": [
      "Social Networking : 71,548.3491\n",
      "Photo & Video : 28,441.5438\n",
      "Games : 22,788.6697\n",
      "Music : 57,326.5303\n",
      "Reference : 74,942.1111\n",
      "Health & Fitness : 23,298.0154\n",
      "Weather : 52,279.8929\n",
      "Utilities : 18,684.4568\n",
      "Travel : 28,243.8000\n",
      "Shopping : 26,919.6905\n",
      "News : 21,248.0233\n",
      "Navigation : 86,090.3333\n",
      "Lifestyle : 16,485.7647\n",
      "Entertainment : 14,029.8307\n",
      "Food & Drink : 33,333.9231\n",
      "Sports : 23,008.8986\n",
      "Book : 39,758.5000\n",
      "Finance : 31,467.9444\n",
      "Education : 7,003.9831\n",
      "Productivity : 21,028.4107\n",
      "Business : 7,491.1176\n",
      "Catalogs : 4,004.0000\n",
      "Medical : 612.0000\n"
     ]
    }
   ],
   "source": [
    "#create a dictionary of unique genres in the iOs store\n",
    "unique_genre = freq_table(iOs_free, 11)\n",
    "\n",
    "#loop over the unique_genre list\n",
    "for genre in unique_genre:\n",
    "    #create a total variable\n",
    "    total = 0\n",
    "    #create a genre counter variable\n",
    "    len_genre = 0\n",
    "    \n",
    "    #loop over the iOs dataset\n",
    "    for app in iOs_free:\n",
    "        #get the app_genre\n",
    "        genre_app = app[11]\n",
    "        \n",
    "        #if the genre is the same as genre_app\n",
    "        if genre == genre_app:\n",
    "            #save the user rating as a float\n",
    "            user_rating = float(app[5])\n",
    "            #add the user_ratings to total\n",
    "            total += user_rating\n",
    "            #increment the genre counter\n",
    "            len_genre += 1\n",
    "            \n",
    "    #get the average\n",
    "    average = total / len_genre\n",
    "    #print the genre : average\n",
    "    print(\"{} : {:,.4f}\".format(genre, average))"
   ]
  },
  {
   "cell_type": "markdown",
   "metadata": {},
   "source": [
    "The top 5 genres are Navigation, Reference, Social Networking, Music, and Weather.  If we look at the top 5 genres and what apps there are in each genre, we could get a clearer picture as to why they are the top 5 genres. "
   ]
  },
  {
   "cell_type": "code",
   "execution_count": 28,
   "metadata": {},
   "outputs": [
    {
     "name": "stdout",
     "output_type": "stream",
     "text": [
      "Waze - GPS Navigation, Maps & Real-time Traffic : 345046\n",
      "Google Maps - Navigation & Transit : 154911\n",
      "Geocaching® : 12811\n",
      "CoPilot GPS – Car Navigation & Offline Maps : 3582\n",
      "ImmobilienScout24: Real Estate Search in Germany : 187\n",
      "Railway Route Search : 5\n"
     ]
    }
   ],
   "source": [
    "#loop through the iOs data set\n",
    "for app in iOs_free:\n",
    "    #check if the genre is Navigation\n",
    "    if app[11] == 'Navigation':\n",
    "        #print the app name and ratings\n",
    "        print(app[1], ':', app[5])"
   ]
  },
  {
   "cell_type": "markdown",
   "metadata": {},
   "source": [
    "As we see there are only 6 navigations apps.  With Waze having the majority of ratings and Google Maps in second.  This genre won't do us any good because anything besides Waze and Google Maps aren't getting good numbers."
   ]
  },
  {
   "cell_type": "code",
   "execution_count": 29,
   "metadata": {},
   "outputs": [
    {
     "name": "stdout",
     "output_type": "stream",
     "text": [
      "Bible : 985920\n",
      "Dictionary.com Dictionary & Thesaurus : 200047\n",
      "Dictionary.com Dictionary & Thesaurus for iPad : 54175\n",
      "Google Translate : 26786\n",
      "Muslim Pro: Ramadan 2017 Prayer Times, Azan, Quran : 18418\n",
      "New Furniture Mods - Pocket Wiki & Game Tools for Minecraft PC Edition : 17588\n",
      "Merriam-Webster Dictionary : 16849\n",
      "Night Sky : 12122\n",
      "City Maps for Minecraft PE - The Best Maps for Minecraft Pocket Edition (MCPE) : 8535\n",
      "LUCKY BLOCK MOD ™ for Minecraft PC Edition - The Best Pocket Wiki & Mods Installer Tools : 4693\n",
      "GUNS MODS for Minecraft PC Edition - Mods Tools : 1497\n",
      "Guides for Pokémon GO - Pokemon GO News and Cheats : 826\n",
      "WWDC : 762\n",
      "Horror Maps for Minecraft PE - Download The Scariest Maps for Minecraft Pocket Edition (MCPE) Free : 718\n",
      "VPN Express : 14\n",
      "Real Bike Traffic Rider Virtual Reality Glasses : 8\n",
      "教えて!goo : 0\n",
      "Jishokun-Japanese English Dictionary & Translator : 0\n"
     ]
    }
   ],
   "source": [
    "#loop through the iOs data set\n",
    "for app in iOs_free:\n",
    "    #check if the genre is Reference\n",
    "    if app[11] == 'Reference':\n",
    "        #print the app name and ratings\n",
    "        print(app[1], ':', app[5])"
   ]
  },
  {
   "cell_type": "markdown",
   "metadata": {},
   "source": [
    "For the Reference genre, we see more balanced review numbers than the Navigation genre.  This could be a good contender for the type of app we want to make."
   ]
  },
  {
   "cell_type": "code",
   "execution_count": 30,
   "metadata": {},
   "outputs": [
    {
     "name": "stdout",
     "output_type": "stream",
     "text": [
      "Facebook : 2974676\n",
      "Pinterest : 1061624\n",
      "Skype for iPhone : 373519\n",
      "Messenger : 351466\n",
      "Tumblr : 334293\n",
      "WhatsApp Messenger : 287589\n",
      "Kik : 260965\n",
      "ooVoo – Free Video Call, Text and Voice : 177501\n",
      "TextNow - Unlimited Text + Calls : 164963\n",
      "Viber Messenger – Text & Call : 164249\n",
      "Followers - Social Analytics For Instagram : 112778\n",
      "MeetMe - Chat and Meet New People : 97072\n",
      "We Heart It - Fashion, wallpapers, quotes, tattoos : 90414\n",
      "InsTrack for Instagram - Analytics Plus More : 85535\n",
      "Tango - Free Video Call, Voice and Chat : 75412\n",
      "LinkedIn : 71856\n",
      "Match™ - #1 Dating App. : 60659\n",
      "Skype for iPad : 60163\n",
      "POF - Best Dating App for Conversations : 52642\n",
      "Timehop : 49510\n",
      "Find My Family, Friends & iPhone - Life360 Locator : 43877\n",
      "Whisper - Share, Express, Meet : 39819\n",
      "Hangouts : 36404\n",
      "LINE PLAY - Your Avatar World : 34677\n",
      "WeChat : 34584\n",
      "Badoo - Meet New People, Chat, Socialize. : 34428\n",
      "Followers + for Instagram - Follower Analytics : 28633\n",
      "GroupMe : 28260\n",
      "Marco Polo Video Walkie Talkie : 27662\n",
      "Miitomo : 23965\n",
      "SimSimi : 23530\n",
      "Grindr - Gay and same sex guys chat, meet and date : 23201\n",
      "Wishbone - Compare Anything : 20649\n",
      "imo video calls and chat : 18841\n",
      "After School - Funny Anonymous School News : 18482\n",
      "Quick Reposter - Repost, Regram and Reshare Photos : 17694\n",
      "Weibo HD : 16772\n",
      "Repost for Instagram : 15185\n",
      "Live.me – Live Video Chat & Make Friends Nearby : 14724\n",
      "Nextdoor : 14402\n",
      "Followers Analytics for Instagram - InstaReport : 13914\n",
      "YouNow: Live Stream Video Chat : 12079\n",
      "FollowMeter for Instagram - Followers Tracking : 11976\n",
      "LINE : 11437\n",
      "eHarmony™ Dating App - Meet Singles : 11124\n",
      "Discord - Chat for Gamers : 9152\n",
      "QQ : 9109\n",
      "Telegram Messenger : 7573\n",
      "Weibo : 7265\n",
      "Periscope - Live Video Streaming Around the World : 6062\n",
      "Chat for Whatsapp - iPad Version : 5060\n",
      "QQ HD : 5058\n",
      "Followers Analysis Tool For Instagram App Free : 4253\n",
      "live.ly - live video streaming : 4145\n",
      "Houseparty - Group Video Chat : 3991\n",
      "SOMA Messenger : 3232\n",
      "Monkey : 3060\n",
      "Down To Lunch : 2535\n",
      "Flinch - Video Chat Staring Contest : 2134\n",
      "Highrise - Your Avatar Community : 2011\n",
      "LOVOO - Dating Chat : 1985\n",
      "PlayStation®Messages : 1918\n",
      "BOO! - Video chat camera with filters & stickers : 1805\n",
      "Qzone : 1649\n",
      "Chatous - Chat with new people : 1609\n",
      "Kiwi - Q&A : 1538\n",
      "GhostCodes - a discovery app for Snapchat : 1313\n",
      "Jodel : 1193\n",
      "FireChat : 1037\n",
      "Google Duo - simple video calling : 1033\n",
      "Fiesta by Tango - Chat & Meet New People : 885\n",
      "Google Allo — smart messaging : 862\n",
      "Peach — share vividly : 727\n",
      "Hey! VINA - Where Women Meet New Friends : 719\n",
      "Battlefield™ Companion : 689\n",
      "All Devices for WhatsApp - Messenger for iPad : 682\n",
      "Chat for Pokemon Go - GoChat : 500\n",
      "IAmNaughty – Dating App to Meet New People Online : 463\n",
      "Qzone HD : 458\n",
      "Zenly - Locate your friends in realtime : 427\n",
      "League of Legends Friends : 420\n",
      "豆瓣 : 407\n",
      "Candid - Speak Your Mind Freely : 398\n",
      "知乎 : 397\n",
      "Selfeo : 366\n",
      "Fake-A-Location Free ™ : 354\n",
      "Popcorn Buzz - Free Group Calls : 281\n",
      "Fam — Group video calling for iMessage : 279\n",
      "QQ International : 274\n",
      "Ameba : 269\n",
      "SoundCloud Pulse: for creators : 240\n",
      "Tantan : 235\n",
      "Cougar Dating & Life Style App for Mature Women : 213\n",
      "Rawr Messenger - Dab your chat : 180\n",
      "WhenToPost: Best Time to Post Photos for Instagram : 158\n",
      "Inke—Broadcast an amazing life : 147\n",
      "Mustknow - anonymous video Q&A : 53\n",
      "CTFxCmoji : 39\n",
      "Lobi : 36\n",
      "Chain: Collaborate On MyVideo Story/Group Video : 35\n",
      "botman - Real time video chat : 7\n",
      "BestieBox : 0\n",
      "MATCH ON LINE chat : 0\n",
      "niconico ch : 0\n",
      "LINE BLOG : 0\n",
      "bit-tube - Live Stream Video Chat : 0\n"
     ]
    }
   ],
   "source": [
    "#loop through the iOs data set\n",
    "for app in iOs_free:\n",
    "    #check if the genre is Social Networking\n",
    "    if app[11] == 'Social Networking':\n",
    "        #print the app name and ratings\n",
    "        print(app[1], ':', app[5])"
   ]
  },
  {
   "cell_type": "markdown",
   "metadata": {},
   "source": [
    "In the Social Networking genre, once again we see a skew to the top of reviews.  With Facebook at the very top almost tripling the next highest ratings app.  Then we look towards the bottom of the list and see quite a number of apps  below 10,000 reviews.  This genre seems like a hard genre to break into so we can ignore this one."
   ]
  },
  {
   "cell_type": "code",
   "execution_count": 31,
   "metadata": {
    "scrolled": true
   },
   "outputs": [
    {
     "name": "stdout",
     "output_type": "stream",
     "text": [
      "Pandora - Music & Radio : 1126879\n",
      "Spotify Music : 878563\n",
      "Shazam - Discover music, artists, videos & lyrics : 402925\n",
      "iHeartRadio – Free Music & Radio Stations : 293228\n",
      "SoundCloud - Music & Audio : 135744\n",
      "Magic Piano by Smule : 131695\n",
      "Smule Sing! : 119316\n",
      "TuneIn Radio - MLB NBA Audiobooks Podcasts Music : 110420\n",
      "Amazon Music : 106235\n",
      "SoundHound Song Search & Music Player : 82602\n",
      "Sonos Controller : 48905\n",
      "Bandsintown Concerts : 30845\n",
      "Karaoke - Sing Karaoke, Unlimited Songs! : 28606\n",
      "My Mixtapez Music : 26286\n",
      "Sing Karaoke Songs Unlimited with StarMaker : 26227\n",
      "Ringtones for iPhone & Ringtone Maker : 25403\n",
      "Musi - Unlimited Music For YouTube : 25193\n",
      "AutoRap by Smule : 18202\n",
      "Spinrilla - Mixtapes For Free : 15053\n",
      "Napster - Top Music & Radio : 14268\n",
      "edjing Mix:DJ turntable to remix and scratch music : 13580\n",
      "Free Music - MP3 Streamer & Playlist Manager Pro : 13443\n",
      "Free Piano app by Yokee : 13016\n",
      "Google Play Music : 10118\n",
      "Certified Mixtapes - Hip Hop Albums & Mixtapes : 9975\n",
      "TIDAL : 7398\n",
      "YouTube Music : 7109\n",
      "Nicki Minaj: The Empire : 5196\n",
      "Sounds app - Music And Friends : 5126\n",
      "SongFlip - Free Music Streamer : 5004\n",
      "Simple Radio - Live AM & FM Radio Stations : 4787\n",
      "Deezer - Listen to your Favorite Music & Playlists : 4677\n",
      "Ringtones for iPhone with Ringtone Maker : 4013\n",
      "Bose SoundTouch : 3687\n",
      "Amazon Alexa : 3018\n",
      "DatPiff : 2815\n",
      "Trebel Music - Unlimited Music Downloader : 2570\n",
      "Free Music Play - Mp3 Streamer & Player : 2496\n",
      "Acapella from PicPlayPost : 2487\n",
      "Coach Guitar - Lessons & Easy Tabs For Beginners : 2416\n",
      "Musicloud - MP3 and FLAC Music Player for Cloud Platforms. : 2211\n",
      "Piano - Play Keyboard Music Games with Magic Tiles : 1636\n",
      "Boom: Best Equalizer & Magical Surround Sound : 1375\n",
      "Music Freedom - Unlimited Free MP3 Music Streaming : 1246\n",
      "AmpMe - A Portable Social Party Music Speaker : 1047\n",
      "Medly - Music Maker : 933\n",
      "Bose Connect : 915\n",
      "Music Memos : 909\n",
      "UE BOOM : 612\n",
      "LiveMixtapes : 555\n",
      "NOISE : 355\n",
      "MP3 Music Player & Streamer for Clouds : 329\n",
      "Musical Video Maker - Create Music clips lip sync : 320\n",
      "Cloud Music Player - Downloader & Playlist Manager : 319\n",
      "Remixlive - Remix loops with pads : 288\n",
      "QQ音乐HD : 224\n",
      "Blocs Wave - Make & Record Music : 158\n",
      "PlayGround • Music At Your Fingertips : 150\n",
      "Music and Chill : 135\n",
      "The Singing Machine Mobile Karaoke App : 130\n",
      "radio.de - Der Radioplayer : 64\n",
      "Free Music -  Player & Streamer  for Dropbox, OneDrive & Google Drive : 46\n",
      "NRJ Radio : 38\n",
      "Smart Music: Streaming Videos and Radio : 17\n",
      "BOSS Tuner : 13\n",
      "PetitLyrics : 0\n"
     ]
    }
   ],
   "source": [
    "#loop through the iOs data set\n",
    "for app in iOs_free:\n",
    "    #check if the genre is Music\n",
    "    if app[11] == 'Music':\n",
    "        #print the app name and ratings\n",
    "        print(app[1], ':', app[5])"
   ]
  },
  {
   "cell_type": "markdown",
   "metadata": {},
   "source": [
    "Next up is the Music genre.  Again, we see a few apps dominating the ratings while most apps are low on the number of ratings.  Another bad genre to break into."
   ]
  },
  {
   "cell_type": "code",
   "execution_count": 32,
   "metadata": {},
   "outputs": [
    {
     "name": "stdout",
     "output_type": "stream",
     "text": [
      "The Weather Channel: Forecast, Radar & Alerts : 495626\n",
      "The Weather Channel App for iPad – best local forecast, radar map, and storm tracking : 208648\n",
      "WeatherBug - Local Weather, Radar, Maps, Alerts : 188583\n",
      "MyRadar NOAA Weather Radar Forecast : 150158\n",
      "AccuWeather - Weather for Life : 144214\n",
      "Yahoo Weather : 112603\n",
      "Weather Underground: Custom Forecast & Local Radar : 49192\n",
      "NOAA Weather Radar - Weather Forecast & HD Radar : 45696\n",
      "Weather Live Free - Weather Forecast & Alerts : 35702\n",
      "Storm Radar : 22792\n",
      "QuakeFeed Earthquake Map, Alerts, and News : 6081\n",
      "Moji Weather - Free Weather Forecast : 2333\n",
      "Hurricane by American Red Cross : 1158\n",
      "Forecast Bar : 375\n",
      "Hurricane Tracker WESH 2 Orlando, Central Florida : 203\n",
      "FEMA : 128\n",
      "iWeather - World weather forecast : 80\n",
      "Weather - Radar - Storm with Morecast App : 78\n",
      "Yurekuru Call : 53\n",
      "Weather & Radar : 37\n",
      "WRAL Weather Alert : 25\n",
      "Météo-France : 24\n",
      "JaxReady : 22\n",
      "Freddy the Frogcaster's Weather Station : 14\n",
      "Almanac Long-Range Weather Forecast : 12\n",
      "TodayAir : 0\n",
      "wetter.com : 0\n",
      "WarnWetter : 0\n"
     ]
    }
   ],
   "source": [
    "#loop through the iOs data set\n",
    "for app in iOs_free:\n",
    "    #check if the genre is Weather\n",
    "    if app[11] == 'Weather':\n",
    "        #print the app name and ratings\n",
    "        print(app[1], ':', app[5])"
   ]
  },
  {
   "cell_type": "markdown",
   "metadata": {},
   "source": [
    "Finally, lets look at the Weather genre.  The Weather Channel seems to be the big app in the genre.  But this genre does seem to also be one of the more balanced genres in the top 5 genres.  This one could also be a contender for our app.\n",
    "\n",
    "After looking at the top 5 genres with the highest number of reviews.  It would seem Reference and Weather is the most balanced genres.  In the app markets especially, building up a good catalog of apps is important instead of relying on a one hit wonder.  So perhaps building a Reference app could be our first step followed by a Weather app."
   ]
  },
  {
   "cell_type": "markdown",
   "metadata": {},
   "source": [
    "##### Popular Apps on Google Playstore\n",
    "Now lets look at the Google Playstore and see which genres have the most installs compared to the number of apps.\n",
    "\n",
    "One thing to note is that we will only be looking at `catagory` because that list was more general and we are not trying to be too specific right now."
   ]
  },
  {
   "cell_type": "code",
   "execution_count": 43,
   "metadata": {},
   "outputs": [
    {
     "name": "stdout",
     "output_type": "stream",
     "text": [
      "ART_AND_DESIGN : 1,986,335.0877\n",
      "AUTO_AND_VEHICLES : 647,317.8171\n",
      "BEAUTY : 513,151.8868\n",
      "BOOKS_AND_REFERENCE : 8,767,811.8947\n",
      "BUSINESS : 1,712,290.1474\n",
      "COMICS : 817,657.2727\n",
      "COMMUNICATION : 38,456,119.1672\n",
      "DATING : 854,028.8303\n",
      "EDUCATION : 1,833,495.1456\n",
      "ENTERTAINMENT : 11,640,705.8824\n",
      "EVENTS : 253,542.2222\n",
      "FINANCE : 1,387,692.4756\n",
      "FOOD_AND_DRINK : 1,924,897.7364\n",
      "HEALTH_AND_FITNESS : 4,188,821.9853\n",
      "HOUSE_AND_HOME : 1,331,540.5616\n",
      "LIBRARIES_AND_DEMO : 638,503.7349\n",
      "LIFESTYLE : 1,437,816.2688\n",
      "GAME : 15,588,015.6032\n",
      "FAMILY : 3,695,641.8198\n",
      "MEDICAL : 120,550.6198\n",
      "SOCIAL : 23,253,652.1271\n",
      "SHOPPING : 7,036,877.3116\n",
      "PHOTOGRAPHY : 17,840,110.4023\n",
      "SPORTS : 3,638,640.1429\n",
      "TRAVEL_AND_LOCAL : 13,984,077.7101\n",
      "TOOLS : 10,801,391.2987\n",
      "PERSONALIZATION : 5,201,482.6122\n",
      "PRODUCTIVITY : 16,787,331.3449\n",
      "PARENTING : 542,603.6207\n",
      "WEATHER : 5,074,486.1972\n",
      "VIDEO_PLAYERS : 24,727,872.4528\n",
      "NEWS_AND_MAGAZINES : 9,549,178.4677\n",
      "MAPS_AND_NAVIGATION : 4,056,941.7742\n"
     ]
    }
   ],
   "source": [
    "#create a dictionary of uinique catagories in the android store\n",
    "unique_catagory = freq_table(android_free, 1)\n",
    "\n",
    "#loop over the catagory list\n",
    "for catagory in unique_catagory:\n",
    "    #create a total variable\n",
    "    total = 0\n",
    "    #create a catagory counter variable\n",
    "    len_catagory = 0\n",
    "    \n",
    "    #loop over the android dataset\n",
    "    for app in android_free:\n",
    "        #get the app catagory\n",
    "        catagory_app = app[1]\n",
    "\n",
    "        #if the catagory is the same as catagory_app\n",
    "        if catagory == catagory_app:\n",
    "            #grab the number of installs\n",
    "            installs = app[5]\n",
    "            #clean up the number of installs by removeing ',' and '+'\n",
    "            installs = installs.replace(',', '')\n",
    "            installs = installs.replace('+', '')\n",
    "            #set installs as a float\n",
    "            installs = float(installs)\n",
    "            \n",
    "            #add the installs to total\n",
    "            total += installs\n",
    "            #increment the catagory counter\n",
    "            len_catagory += 1\n",
    "            \n",
    "    #get the average\n",
    "    average = total / len_catagory\n",
    "    #print the catagory : average\n",
    "    print(\"{} : {:,.4f}\".format(catagory, average))"
   ]
  },
  {
   "cell_type": "markdown",
   "metadata": {},
   "source": [
    "Once again we can look at the top 5 catgories.  This will include Communication, Video Players, Social, Photography, and Productivity."
   ]
  },
  {
   "cell_type": "code",
   "execution_count": 97,
   "metadata": {},
   "outputs": [
    {
     "name": "stdout",
     "output_type": "stream",
     "text": [
      "WhatsApp Messenger : 1,000,000,000+\n",
      "imo beta free calls and text : 100,000,000+\n",
      "Android Messages : 100,000,000+\n",
      "Google Duo - High Quality Video Calls : 500,000,000+\n",
      "Messenger – Text and Video Chat for Free : 1,000,000,000+\n",
      "imo free video calls and chat : 500,000,000+\n",
      "Skype - free IM & video calls : 1,000,000,000+\n",
      "Who : 100,000,000+\n",
      "GO SMS Pro - Messenger, Free Themes, Emoji : 100,000,000+\n",
      "LINE: Free Calls & Messages : 500,000,000+\n",
      "Google Chrome: Fast & Secure : 1,000,000,000+\n",
      "Firefox Browser fast & private : 100,000,000+\n",
      "UC Browser - Fast Download Private & Secure : 500,000,000+\n",
      "Gmail : 1,000,000,000+\n",
      "Hangouts : 1,000,000,000+\n",
      "Messenger Lite: Free Calls & Messages : 100,000,000+\n",
      "Kik : 100,000,000+\n",
      "KakaoTalk: Free Calls & Text : 100,000,000+\n",
      "Opera Mini - fast web browser : 100,000,000+\n",
      "Opera Browser: Fast and Secure : 100,000,000+\n",
      "Telegram : 100,000,000+\n",
      "Truecaller: Caller ID, SMS spam blocking & Dialer : 100,000,000+\n",
      "UC Browser Mini -Tiny Fast Private & Secure : 100,000,000+\n",
      "Viber Messenger : 500,000,000+\n",
      "WeChat : 100,000,000+\n",
      "Yahoo Mail – Stay Organized : 100,000,000+\n",
      "BBM - Free Calls & Messages : 100,000,000+\n"
     ]
    }
   ],
   "source": [
    "#loop through the android data set\n",
    "for app in android_free:\n",
    "    #if the app is in catagory COMMUNICATION\n",
    "    if app[1] == 'COMMUNICATION':\n",
    "        #if the app has more than 100m installs\n",
    "        if app[5] == '1,000,000,000+' or app[5] == '500,000,000+' or app[5] == '100,000,000+':\n",
    "            #print the list\n",
    "            print(app[0], ':', app[5])"
   ]
  },
  {
   "cell_type": "markdown",
   "metadata": {},
   "source": [
    "We see that 6 Communications apps have over 1,000,000,000 installs.  Those apps include WhatsApp, Messanger, Skype, Google Chrome, Gmail, and Hangouts.  These apps are all owned by Facebook, Microsoft, and Google.  After that we only have 4 with 5,000,000+, then the rest fall in the 100,000,000+ range."
   ]
  },
  {
   "cell_type": "code",
   "execution_count": 95,
   "metadata": {
    "scrolled": false
   },
   "outputs": [
    {
     "name": "stdout",
     "output_type": "stream",
     "text": [
      "YouTube : 1,000,000,000+\n",
      "Motorola Gallery : 100,000,000+\n",
      "VLC for Android : 100,000,000+\n",
      "Google Play Movies & TV : 1,000,000,000+\n",
      "MX Player : 500,000,000+\n",
      "Dubsmash : 100,000,000+\n",
      "VivaVideo - Video Editor & Photo Movie : 100,000,000+\n",
      "VideoShow-Video Editor, Video Maker, Beauty Camera : 100,000,000+\n",
      "Motorola FM Radio : 100,000,000+\n"
     ]
    }
   ],
   "source": [
    "#loop through the android data set\n",
    "for app in android_free:\n",
    "    #if the app is in Cataogry VIDEO_PLAYERS\n",
    "    if app[1] == 'VIDEO_PLAYERS':\n",
    "        #if the app has more than 100m installs\n",
    "        if app[5] == '1,000,000,000+' or app[5] == '500,000,000+' or app[5] == '100,000,000+':\n",
    "            #print the list\n",
    "            print(app[0], ':', app[5])"
   ]
  },
  {
   "cell_type": "markdown",
   "metadata": {},
   "source": [
    "In this list of Video Players we see only 9 apps that are above 100,000,000+.  With 2 of the apps being 1,000,000,000+ and only 1 being 500,000,000+.  "
   ]
  },
  {
   "cell_type": "code",
   "execution_count": 96,
   "metadata": {},
   "outputs": [
    {
     "name": "stdout",
     "output_type": "stream",
     "text": [
      "Facebook : 1,000,000,000+\n",
      "Facebook Lite : 500,000,000+\n",
      "Tumblr : 100,000,000+\n",
      "Pinterest : 100,000,000+\n",
      "Google+ : 1,000,000,000+\n",
      "Badoo - Free Chat & Dating App : 100,000,000+\n",
      "Tango - Live Video Broadcast : 100,000,000+\n",
      "Instagram : 1,000,000,000+\n",
      "Snapchat : 500,000,000+\n",
      "LinkedIn : 100,000,000+\n",
      "Tik Tok - including musical.ly : 100,000,000+\n",
      "BIGO LIVE - Live Stream : 100,000,000+\n",
      "VK : 100,000,000+\n"
     ]
    }
   ],
   "source": [
    "#loop through the android data set\n",
    "for app in android_free:\n",
    "    #if the app is in Cataogry SOCIAL\n",
    "    if app[1] == 'SOCIAL':\n",
    "        #if the app has more than 100m installs\n",
    "        if app[5] == '1,000,000,000+' or app[5] == '500,000,000+' or app[5] == '100,000,000+':\n",
    "            #print the list\n",
    "            print(app[0], ':', app[5])"
   ]
  },
  {
   "cell_type": "markdown",
   "metadata": {},
   "source": [
    "For Social apps we see that 2 apps have 1,000,000,000+ and 2 apps have 500,000,000+."
   ]
  },
  {
   "cell_type": "code",
   "execution_count": 98,
   "metadata": {},
   "outputs": [
    {
     "name": "stdout",
     "output_type": "stream",
     "text": [
      "B612 - Beauty & Filter Camera : 100,000,000+\n",
      "YouCam Makeup - Magic Selfie Makeovers : 100,000,000+\n",
      "Sweet Selfie - selfie camera, beauty cam, photo edit : 100,000,000+\n",
      "Google Photos : 1,000,000,000+\n",
      "Retrica : 100,000,000+\n",
      "Photo Editor Pro : 100,000,000+\n",
      "BeautyPlus - Easy Photo Editor & Selfie Camera : 100,000,000+\n",
      "PicsArt Photo Studio: Collage Maker & Pic Editor : 100,000,000+\n",
      "Photo Collage Editor : 100,000,000+\n",
      "Z Camera - Photo Editor, Beauty Selfie, Collage : 100,000,000+\n",
      "PhotoGrid: Video & Pic Collage Maker, Photo Editor : 100,000,000+\n",
      "Candy Camera - selfie, beauty camera, photo editor : 100,000,000+\n",
      "YouCam Perfect - Selfie Photo Editor : 100,000,000+\n",
      "Camera360: Selfie Photo Editor with Funny Sticker : 100,000,000+\n",
      "S Photo Editor - Collage Maker , Photo Collage : 100,000,000+\n",
      "AR effect : 100,000,000+\n",
      "Cymera Camera- Photo Editor, Filter,Collage,Layout : 100,000,000+\n",
      "LINE Camera - Photo editor : 100,000,000+\n",
      "Photo Editor Collage Maker Pro : 100,000,000+\n"
     ]
    }
   ],
   "source": [
    "#loop through the android data set\n",
    "for app in android_free:\n",
    "    #if the app is in Cataogry PHOTOGRAPHY\n",
    "    if app[1] == 'PHOTOGRAPHY':\n",
    "        #if the app has more than 100m installs\n",
    "        if app[5] == '1,000,000,000+' or app[5] == '500,000,000+' or app[5] == '100,000,000+':\n",
    "            #print the list\n",
    "            print(app[0], ':', app[5])"
   ]
  },
  {
   "cell_type": "markdown",
   "metadata": {},
   "source": [
    "Photography apps seem to be the most balanced with every app we are looking at only being 100,000,000+ except for Google Photos."
   ]
  },
  {
   "cell_type": "code",
   "execution_count": 99,
   "metadata": {},
   "outputs": [
    {
     "name": "stdout",
     "output_type": "stream",
     "text": [
      "Microsoft Word : 500,000,000+\n",
      "Microsoft Outlook : 100,000,000+\n",
      "Microsoft OneDrive : 100,000,000+\n",
      "Microsoft OneNote : 100,000,000+\n",
      "Google Keep : 100,000,000+\n",
      "ES File Explorer File Manager : 100,000,000+\n",
      "Dropbox : 500,000,000+\n",
      "Google Docs : 100,000,000+\n",
      "Microsoft PowerPoint : 100,000,000+\n",
      "Samsung Notes : 100,000,000+\n",
      "SwiftKey Keyboard : 100,000,000+\n",
      "Google Drive : 1,000,000,000+\n",
      "Adobe Acrobat Reader : 100,000,000+\n",
      "Google Sheets : 100,000,000+\n",
      "Microsoft Excel : 100,000,000+\n",
      "WPS Office - Word, Docs, PDF, Note, Slide & Sheet : 100,000,000+\n",
      "Google Slides : 100,000,000+\n",
      "ColorNote Notepad Notes : 100,000,000+\n",
      "Evernote – Organizer, Planner for Notes & Memos : 100,000,000+\n",
      "Google Calendar : 500,000,000+\n",
      "Cloud Print : 500,000,000+\n",
      "CamScanner - Phone PDF Creator : 100,000,000+\n"
     ]
    }
   ],
   "source": [
    "#loop through the android data set\n",
    "for app in android_free:\n",
    "    #if the app is in Cataogry PRODUCTIVITY\n",
    "    if app[1] == 'PRODUCTIVITY':\n",
    "        #if the app has more than 100m installs\n",
    "        if app[5] == '1,000,000,000+' or app[5] == '500,000,000+' or app[5] == '100,000,000+':\n",
    "            #print the list\n",
    "            print(app[0], ':', app[5])"
   ]
  },
  {
   "cell_type": "markdown",
   "metadata": {},
   "source": [
    "In Productivity, once again we see the only 1,000,000,000+ app being from Google.  Followed by a few 500,000,000+ from Microsoft word, Dropbox, Google calander.\n",
    "\n",
    "After looking at the apps from the top 5 catagories in the google playstore that have 100 million+ installs, we can see that each catagory is dominated by one or two apps having 1 billion+ installs aside from Communications.  Then a few apps with 500 million+ also showing up from large companies in each catagory except for Photography which doesn't have any 500 million+ apps.  Photography also has a decent number of apps in the 100 million+ range despite only having one 1 billion+ and no 500 million+ apps.\n",
    "\n",
    "Since our company's 3 step mission starts off with android then moves into iOs we can look at how the iOs Photography apps.  "
   ]
  },
  {
   "cell_type": "code",
   "execution_count": 100,
   "metadata": {},
   "outputs": [
    {
     "name": "stdout",
     "output_type": "stream",
     "text": [
      "Instagram : 2161558\n",
      "Snapchat : 323905\n",
      "YouTube - Watch Videos, Music, and Live Streams : 278166\n",
      "Pic Collage - Picture Editor & Photo Collage Maker : 123433\n",
      "Funimate video editor: add cool effects to videos : 123268\n",
      "musical.ly - your video social network : 105429\n",
      "Photo Collage Maker & Photo Editor - Live Collage : 93781\n",
      "Vine Camera : 90355\n",
      "Google Photos - unlimited photo and video storage : 88742\n",
      "Flipagram : 79905\n",
      "Mixgram - Picture Collage Maker - Pic Photo Editor : 54282\n",
      "Shutterfly: Prints, Photo Books, Cards Made Easy : 51427\n",
      "Pic Jointer – Photo Collage, Camera Effects Editor : 51330\n",
      "Color Pop Effects - Photo Editor & Picture Editing : 45320\n",
      "Photo Grid - photo collage maker & photo editor : 40531\n",
      "iSwap Faces LITE : 39722\n",
      "MOLDIV - Photo Editor, Collage & Beauty Camera : 39501\n",
      "Photo Editor by Aviary : 39501\n",
      "Photo Lab: Picture Editor, effects & fun face app : 34585\n",
      "Rookie Cam - Photo Editor & Filter Camera : 33921\n",
      "FotoRus -Camera & Photo Editor & Pic Collage Maker : 32558\n",
      "PicsArt Photo Studio: Collage Maker & Pic Editor : 29078\n",
      "Quik – GoPro Video Editor to edit clips with music : 28654\n",
      "Splice - Video Editor + Movie Maker by GoPro : 28189\n",
      "FreePrints – Photos Delivered : 26060\n",
      "Triller - Music Video & Film Maker : 25683\n",
      "Ghost Lens+Scary Photo Video Edit&Collage Maker : 18316\n",
      "Camera360 - Selfie Filter Camera, Photo Editor : 16729\n",
      "InstaMag - Free Pic and Photo Collage Maker : 16221\n",
      "Over— Edit Photos, Add Text & Captions to Pictures : 16221\n",
      "Photo Transfer App - Easy backup of photos+videos : 15654\n",
      "InstaSize: Photo Editor, Picture Effects & Collage : 15605\n",
      "Prisma: Photo Editor, Art Filters Pic Effects : 15060\n",
      "Filterra – Photo Editor, Effects for Pictures : 14744\n",
      "YouCam Makeup: Magic Makeup Selfie Cam : 14188\n",
      "MSQRD — Live Filters & Face Swap for Video Selfies : 12982\n",
      "Artisto – Video and Photo Editor with Art Filters : 12963\n",
      "InShot Video Editor Music, No Crop, Cut : 12779\n",
      "Layout from Instagram : 12616\n",
      "Face Swap App- Funny Face Changer Photo Effects : 11977\n",
      "Moments - private albums with friends and family : 11955\n",
      "VSCO : 11174\n",
      "Retrica - Selfie Camera with Filter, Sticker & GIF : 11021\n",
      "VivaVideo - Best Video Editor & Photo Movie Maker : 10618\n",
      "Prime Photos from Amazon : 10511\n",
      "Canva - Graphic Design & Photo Editing : 9114\n",
      "Photo Editor- : 9095\n",
      "Snapseed : 8683\n",
      "You Doodle - draw on photos & pictures, add text : 8520\n",
      "PIP Camera-Selfie Cam&Pic Collage&Photo Editor : 8454\n",
      "BeautyPlus - Selfie Camera for a Beautiful Image : 7503\n",
      "Baby Story - Pregnancy Pics Baby Milestones Photo : 6700\n",
      "Capture - Control Your GoPro Camera - Share Video : 6542\n",
      "Meitu : 6478\n",
      "Visage makeup editor plus photo teeth whitener : 5767\n",
      "Video & TV Cast for Chromecast: Best Browser to cast and stream webvideos and local videos on TV & Displays : 5676\n",
      "Adobe Photoshop Mix - Cut out, combine, create : 5253\n",
      "Collageable - Photo Collage Maker, Pic Grid Free : 5112\n",
      "Bazaart Photo Editor Pro and Picture Collage Maker : 4909\n",
      "InstaBeauty -Camera&Photo Editor&Pic Collage Maker : 4818\n",
      "YouCam Perfect - Photo & Selfie Editor : 4293\n",
      "PHHHOTO - Look Alive : 4280\n",
      "MuseCam - Edit Photos & Manual Camera : 4267\n",
      "VR Tube - Virtual Reality 360 Video Player : 4142\n",
      "Fyuse - 3D Photos : 4126\n",
      "MakeupPlus - Natural, Professional Makeup Looks : 3987\n",
      "LINE Camera - Photo editor, Animated Stamp, Filter : 3978\n",
      "Printicular Print Photos - 1 Hour Pickup : 3909\n",
      "Lumyer - augmented reality camera effects : 3896\n",
      "KODAK Kiosk Connect App : 3711\n",
      "Cool Wallpapers for Pokemon : 3694\n",
      "Pro Editor - Video Maker for FaceBook & Youtube : 3668\n",
      "Lomotif Music Video Editor - Add Music & Effects! : 3507\n",
      "Epson iPrint : 2838\n",
      "YouCam Fun - Live Selfie Video Filters : 2522\n",
      "A Color Story : 2436\n",
      "Boomerang from Instagram : 2373\n",
      "B612 - Trendy Filters, Selfiegenic Camera : 2275\n",
      "Polarr Photo Editor - Photo Editing Tools for All : 2246\n",
      "Retouch Vogue - Facetune Wrinkles & Pimples Makeup : 2235\n",
      "Kanvas - Express Yourself : 2177\n",
      "Easy Save - Repost your Instagram Photos & Videos : 2159\n",
      "Meitu HD : 2150\n",
      "Pixlr - Photo Collages, Effects, Overlays, Filters : 2099\n",
      "Patternator Pattern Maker Backgrounds & Wallpapers : 2092\n",
      "BeautyCam - AR Carnie selfie : 2082\n",
      "GIPHY. The GIF Search Engine for All the GIFs : 2069\n",
      "Adobe Photoshop Lightroom for iPad : 2005\n",
      "SuperPhoto - Photo Effects & Filters : 1952\n",
      "Solo Selfie : 1799\n",
      "Felt: Birthday & Greeting Cards & Thank You Card : 1724\n",
      "Perfect Image - Pic Collage Maker, Add Text to Photo, Cool Picture Editor : 1646\n",
      "InstaBoard  for Instagram - photos & videos repost : 1571\n",
      "Adobe Photoshop Lightroom for iPhone : 1494\n",
      "PhotoScan - scanner by Google Photos : 1421\n",
      "RealTimes: Video Maker : 1274\n",
      "Meipai : 1190\n",
      "POTO - Photo Collage Maker : 1149\n",
      "SNOW - Selfie, Motion sticker, Fun camera : 1115\n",
      "Bestie-Beauty Camera 360 & Portrait Selfie Editor : 1035\n",
      "Facetune 2 : 1009\n",
      "Pitu : 968\n",
      "intoLive - Custom Live Photos wallpaper maker : 938\n",
      "LOL Movie: Change your face + voice! : 849\n",
      "Camcorder - Record VHS Home Videos : 830\n",
      "Anime Power FX : 807\n",
      "Squaready for Video - Convert Rectangle Movie Clip into Square Shape for Instagram : 778\n",
      "Canon PRINT Inkjet/SELPHY : 689\n",
      "Microsoft Pix Camera : 678\n",
      "Kwai - Share your video moments : 668\n",
      "Polaroid Print App - ZIP : 631\n",
      "Photo Quilt - Auto Collage Maker : 599\n",
      "Cymera - Photo & Beauty Editor & Collage : 523\n",
      "FACIE : 514\n",
      "Photo Editing Effects & Collage Maker - Effectshop : 422\n",
      "Pic-it Collage - Photo Collage Maker and Editor : 415\n",
      "Candy Camera : 397\n",
      "Microsoft Selfie : 375\n",
      "Color Pop Free - Selective Color Splash Effects and Black & White Photography Editor : 352\n",
      "SelfieCity : 252\n",
      "InstaSave for Instagram - Download & Repost your own Videos & Photos for Free : 243\n",
      "CATCHY Photos-Easter Bunny, Tooth Fairy and more.. : 228\n",
      "SW/NG - Living Photos. Memories that Swing. : 222\n",
      "SlideStory - Create a slideshow movie and a snap video : 220\n",
      "April - Layouts, Photo Collage, and Poster Maker : 165\n",
      "PopCam　Photo : 160\n",
      "Foodie - Delicious Camera for Food : 144\n",
      "FreeVRPlayer : 134\n",
      "Confetti - Geofilter Design Maker for Snapchat : 120\n",
      "Philm-Video&Photo Editor,REAL-TIME Magic Filter : 103\n",
      "Digital Domain : 102\n",
      "Homido 360 VR player : 100\n",
      "Best 9 for Instagram : 88\n",
      "VR Video World - Virtual Reality : 88\n",
      "FilmStory - For All Your Video Editing Needs : 66\n",
      "GIFYme - Create video loops and gifs with amazing filters for Whatsapp and Instagram : 65\n",
      "Kiosk Photo Transfer by Fujifilm : 58\n",
      "Pikazo – AI art that YOU control : 56\n",
      "lollicam - photo, video, and selfie camera : 51\n",
      "LOOKS - Real Makeup Camera : 25\n",
      "C CHANNEL -Watch tips & tricks videos for girls : 21\n",
      "in-capturing moments in life : 16\n",
      "Everfilter - transform your photos into artworks : 15\n",
      "GoSnaps - Share Screenshots for Pokémon GO : 12\n",
      "NightShooting : 9\n",
      "MixChannel : 6\n",
      "Simple Camera - Fast Minimal Design : 3\n",
      "SwapperFace - Face Swap Free, Live Mask Effects : 2\n",
      "LINE Moments - Capture Your Fun Moments : 1\n",
      "Video speed editor - VBooster : 1\n",
      "Video Smith - A Powerful video editing tool set : 1\n",
      "MeiCam -  Video Production Master : 0\n",
      "Instant X - Take instant-camera-like photo with double exposure and bulb mode : 0\n",
      "EOPAN : 0\n",
      "StageCameraHD : 0\n",
      "Pictalive for Live Photos - Create from videos : 0\n",
      "BlurEffect-Blur Photo & Video, Hide Face : 0\n",
      "camera for filter : 0\n",
      "Emojil - original emoji stamp, decoration camera : 0\n",
      "CelebrityDiagnosis! : 0\n"
     ]
    }
   ],
   "source": [
    "#loop through the iOs data set\n",
    "for app in iOs_free:\n",
    "    #check if the genre is Photo & Video\n",
    "    if app[11] == 'Photo & Video':\n",
    "        #print the app name and ratings\n",
    "        print(app[1], ':', app[5])"
   ]
  },
  {
   "cell_type": "markdown",
   "metadata": {},
   "source": [
    "We see that Instagram is the top app with over 2 million user reviews.  With 5 apps being over 100 thousand user reviews and a good number being over 10 thousand reviews.  As user reviews are not the same as installs we can consider the review counts to be a fair amount lower than number of installs.\n",
    "\n",
    "With this we have an idea of photography apps being a solid choice in both the google playstore and apple appstore.  We can also see that in both the playstore and appstore, a number of photography apps involve photo editing or photo effects.  Photo effects are something that is limited by creativity, so we can have everyone on the development team and even people from other teams contribute ideas.  If we create an app that provides a good variety of photo effects and even some photo editing then we could be a competing app in both the android and iOs market."
   ]
  },
  {
   "cell_type": "markdown",
   "metadata": {},
   "source": [
    "## Conclusions\n",
    "In this project, our goal was to provide the development team with a direction on what type of apps to create that will reach as many users in both the google playstore and the apple appstore.  To do this we analyzed data sets that contained a large number of apps from both stores.\n",
    "\n",
    "The conclusion we have come to is that a Photography app is a good direction to start in.  Photography has the 4th highest number of installs in the google playstore and the 7th highest number of user reviews in the apple appstore.  A good number of them are photography apps that provide photo editing and photo effects.  So to make our app more appealing, we should provide a number of photo effects and some photo editing features.  Photo effects are ideas that everyone in our company can contribue to, not just the development team."
   ]
  }
 ],
 "metadata": {
  "kernelspec": {
   "display_name": "Python 3",
   "language": "python",
   "name": "python3"
  },
  "language_info": {
   "codemirror_mode": {
    "name": "ipython",
    "version": 3
   },
   "file_extension": ".py",
   "mimetype": "text/x-python",
   "name": "python",
   "nbconvert_exporter": "python",
   "pygments_lexer": "ipython3",
   "version": "3.7.4"
  }
 },
 "nbformat": 4,
 "nbformat_minor": 2
}
